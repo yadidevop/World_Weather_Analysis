{
 "cells": [
  {
   "cell_type": "code",
   "execution_count": 1,
   "id": "30ef6ac9",
   "metadata": {},
   "outputs": [],
   "source": [
    "# Import the random module.\n",
    "import random"
   ]
  },
  {
   "cell_type": "code",
   "execution_count": 2,
   "id": "35a0d4db",
   "metadata": {},
   "outputs": [
    {
     "data": {
      "text/plain": [
       "-85"
      ]
     },
     "execution_count": 2,
     "metadata": {},
     "output_type": "execute_result"
    }
   ],
   "source": [
    "random.randint(-90, 90)"
   ]
  },
  {
   "cell_type": "code",
   "execution_count": 3,
   "id": "3cf27dac",
   "metadata": {},
   "outputs": [
    {
     "data": {
      "text/plain": [
       "0.008827319221482943"
      ]
     },
     "execution_count": 3,
     "metadata": {},
     "output_type": "execute_result"
    }
   ],
   "source": [
    "random.random()"
   ]
  },
  {
   "cell_type": "code",
   "execution_count": 4,
   "id": "ccacbba4",
   "metadata": {},
   "outputs": [
    {
     "data": {
      "text/plain": [
       "-21.66548033665862"
      ]
     },
     "execution_count": 4,
     "metadata": {},
     "output_type": "execute_result"
    }
   ],
   "source": [
    "random_number = random.randint(-90, 89) + random.random()\n",
    "random_number"
   ]
  },
  {
   "cell_type": "code",
   "execution_count": 5,
   "id": "e34121ab",
   "metadata": {
    "scrolled": true
   },
   "outputs": [
    {
     "data": {
      "text/plain": [
       "84"
      ]
     },
     "execution_count": 5,
     "metadata": {},
     "output_type": "execute_result"
    }
   ],
   "source": [
    "random.randrange(-90, 90, step=3)"
   ]
  },
  {
   "cell_type": "code",
   "execution_count": 6,
   "id": "45b83fba",
   "metadata": {},
   "outputs": [],
   "source": [
    "#Import the NumPy module.\n",
    "import numpy as np"
   ]
  },
  {
   "cell_type": "code",
   "execution_count": 7,
   "id": "be754773",
   "metadata": {},
   "outputs": [
    {
     "data": {
      "text/plain": [
       "-11.118109028211876"
      ]
     },
     "execution_count": 7,
     "metadata": {},
     "output_type": "execute_result"
    }
   ],
   "source": [
    "np.random.uniform(-90.000, 90.000)"
   ]
  },
  {
   "cell_type": "code",
   "execution_count": 8,
   "id": "2567f021",
   "metadata": {},
   "outputs": [
    {
     "data": {
      "text/plain": [
       "array([-36.998193  ,   1.6141265 , -84.81859374,  77.67722926,\n",
       "        23.16576277,   9.68551558,  39.61349013,  36.5104459 ,\n",
       "         4.9652531 , -16.43079266,  45.66400134, -58.32248385,\n",
       "       -15.30360762, -22.8869725 ,   8.63856466,  48.07378685,\n",
       "       -30.78037134, -52.54223362, -52.49917819,  22.60067877,\n",
       "        14.8568023 , -33.80919587, -40.1142763 , -75.9416167 ,\n",
       "        70.32695031,  85.10802297,  59.44544849,  76.76610382,\n",
       "       -60.21514165,  22.38915605, -44.5529845 ,  72.22439897,\n",
       "        54.14864353,  47.12839194,  14.13440792, -84.82604258,\n",
       "        54.10978089,  31.45743779,  69.7157737 ,  25.08998624,\n",
       "       -13.57980258,  20.79440185,  56.64308422,  41.86154357,\n",
       "        74.38172466,   8.05049567,  -5.90023804,  20.49295287,\n",
       "       -65.17735527,  81.48188986])"
      ]
     },
     "execution_count": 8,
     "metadata": {},
     "output_type": "execute_result"
    }
   ],
   "source": [
    "np.random.uniform(-90.000, 90.000, size=50)"
   ]
  },
  {
   "cell_type": "code",
   "execution_count": null,
   "id": "71a3062a",
   "metadata": {},
   "outputs": [],
   "source": [
    "# Import timeit.\n",
    "import timeit"
   ]
  },
  {
   "cell_type": "code",
   "execution_count": 10,
   "id": "89dcd66e",
   "metadata": {},
   "outputs": [
    {
     "name": "stdout",
     "output_type": "stream",
     "text": [
      "9.41 µs ± 92.7 ns per loop (mean ± std. dev. of 7 runs, 100,000 loops each)\n"
     ]
    }
   ],
   "source": [
    "%timeit np.random.uniform(-90.000, 90.000, size=1500)"
   ]
  }
 ],
 "metadata": {
  "kernelspec": {
   "display_name": "PythonData",
   "language": "python",
   "name": "pythondata"
  },
  "language_info": {
   "codemirror_mode": {
    "name": "ipython",
    "version": 3
   },
   "file_extension": ".py",
   "mimetype": "text/x-python",
   "name": "python",
   "nbconvert_exporter": "python",
   "pygments_lexer": "ipython3",
   "version": "3.9.12"
  }
 },
 "nbformat": 4,
 "nbformat_minor": 5
}
