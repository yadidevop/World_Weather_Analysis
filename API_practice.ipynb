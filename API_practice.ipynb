{
 "cells": [
  {
   "cell_type": "code",
   "execution_count": 6,
   "id": "58b59916",
   "metadata": {},
   "outputs": [],
   "source": [
    "# Create a practice set of random latitude and longitude combinations.\n",
    "lats = [25.12903645, 25.92017388, 26.62509167, -59.98969384, 37.30571269]\n",
    "lngs = [-67.59741259, 11.09532135, 74.84233102, -76.89176677, -61.13376282]\n",
    "lat_lngs = zip(lats, lngs)"
   ]
  },
  {
   "cell_type": "code",
   "execution_count": 9,
   "id": "05250b3f",
   "metadata": {},
   "outputs": [],
   "source": [
    "# Add the latitudes and longitudes to a list.\n",
    "coordinates = zip(lat_lngs)"
   ]
  },
  {
   "cell_type": "code",
   "execution_count": 10,
   "id": "9619fbd9",
   "metadata": {
    "scrolled": true
   },
   "outputs": [],
   "source": [
    "# Use the citipy module to determine city based on latitude and longitude.\n",
    "from citipy import citipy"
   ]
  },
  {
   "cell_type": "code",
   "execution_count": 14,
   "id": "f6ab883d",
   "metadata": {},
   "outputs": [],
   "source": [
    "coordinates = list(lat_lngs)"
   ]
  },
  {
   "cell_type": "code",
   "execution_count": 15,
   "id": "69637594",
   "metadata": {
    "scrolled": true
   },
   "outputs": [
    {
     "name": "stdout",
     "output_type": "stream",
     "text": [
      "parvatsar in\n",
      "punta arenas cl\n",
      "saint george bm\n"
     ]
    }
   ],
   "source": [
    "# Use the print() function to display the latitude and longitude combinations.\n",
    "for coordinate in coordinates:\n",
    "    print(citipy.nearest_city(coordinate[0], coordinate[1]).city_name,\n",
    "          citipy.nearest_city(coordinate[0], coordinate[1]).country_code)"
   ]
  },
  {
   "cell_type": "code",
   "execution_count": 17,
   "id": "919312c0",
   "metadata": {},
   "outputs": [],
   "source": [
    "# Import the requests library.\n",
    "import requests\n",
    "\n",
    "# Import the API key.\n",
    "from config import weather_api_key"
   ]
  },
  {
   "cell_type": "code",
   "execution_count": 28,
   "id": "9baf68f9",
   "metadata": {},
   "outputs": [
    {
     "name": "stdout",
     "output_type": "stream",
     "text": [
      "http://api.openweathermap.org/data/2.5/weather?units=Imperial&APPID=a7eb641ea961b93bc937a0b8ecca1f38\n"
     ]
    }
   ],
   "source": [
    "# Starting URL for Weather Map API Call.\n",
    "url = \"http://api.openweathermap.org/data/2.5/weather?units=Imperial&APPID=\" + weather_api_key\n",
    "print(url)"
   ]
  },
  {
   "cell_type": "code",
   "execution_count": 29,
   "id": "5d9aee61",
   "metadata": {},
   "outputs": [
    {
     "name": "stdout",
     "output_type": "stream",
     "text": [
      "http://api.openweathermap.org/data/2.5/weather?units=Imperial&APPID=a7eb641ea961b93bc937a0b8ecca1f38&q=Boston\n"
     ]
    }
   ],
   "source": [
    "# Create an endpoint URL for a city.\n",
    "city_url = url + \"&q=\" + \"Boston\"\n",
    "print(city_url)"
   ]
  },
  {
   "cell_type": "code",
   "execution_count": 30,
   "id": "3429777a",
   "metadata": {},
   "outputs": [
    {
     "data": {
      "text/plain": [
       "<Response [200]>"
      ]
     },
     "execution_count": 30,
     "metadata": {},
     "output_type": "execute_result"
    }
   ],
   "source": [
    "# Make a 'Get' request for the city weather.\n",
    "city_weather = requests.get(city_url)\n",
    "city_weather"
   ]
  },
  {
   "cell_type": "code",
   "execution_count": 31,
   "id": "6304170f",
   "metadata": {},
   "outputs": [
    {
     "data": {
      "text/plain": [
       "200"
      ]
     },
     "execution_count": 31,
     "metadata": {},
     "output_type": "execute_result"
    }
   ],
   "source": [
    "city_weather.status_code"
   ]
  },
  {
   "cell_type": "code",
   "execution_count": 32,
   "id": "79f8c12b",
   "metadata": {},
   "outputs": [
    {
     "data": {
      "text/plain": [
       "<Response [404]>"
      ]
     },
     "execution_count": 32,
     "metadata": {},
     "output_type": "execute_result"
    }
   ],
   "source": [
    "# Create an endpoint URL for a city.\n",
    "city_url = url + \"&q=\" + \"Bston\"\n",
    "city_weather = requests.get(city_url)\n",
    "city_weather"
   ]
  },
  {
   "cell_type": "code",
   "execution_count": 33,
   "id": "b7018c19",
   "metadata": {},
   "outputs": [
    {
     "data": {
      "text/plain": [
       "<Response [200]>"
      ]
     },
     "execution_count": 33,
     "metadata": {},
     "output_type": "execute_result"
    }
   ],
   "source": [
    "# Create an endpoint URL for a city.\n",
    "city_url = url + \"&q=\" + \"Boston\"\n",
    "city_weather = requests.get(city_url)\n",
    "city_weather"
   ]
  },
  {
   "cell_type": "code",
   "execution_count": 34,
   "id": "ce1f34ec",
   "metadata": {},
   "outputs": [
    {
     "data": {
      "text/plain": [
       "'{\"coord\":{\"lon\":-71.0598,\"lat\":42.3584},\"weather\":[{\"id\":801,\"main\":\"Clouds\",\"description\":\"few clouds\",\"icon\":\"02n\"}],\"base\":\"stations\",\"main\":{\"temp\":47.23,\"feels_like\":45.23,\"temp_min\":40.57,\"temp_max\":53.55,\"pressure\":1021,\"humidity\":66},\"visibility\":10000,\"wind\":{\"speed\":4.61,\"deg\":230},\"clouds\":{\"all\":20},\"dt\":1667180426,\"sys\":{\"type\":2,\"id\":2013408,\"country\":\"US\",\"sunrise\":1667128496,\"sunset\":1667166041},\"timezone\":-14400,\"id\":4930956,\"name\":\"Boston\",\"cod\":200}'"
      ]
     },
     "execution_count": 34,
     "metadata": {},
     "output_type": "execute_result"
    }
   ],
   "source": [
    "# Get the text of the 'Get' request.\n",
    "city_weather.text"
   ]
  },
  {
   "cell_type": "code",
   "execution_count": 35,
   "id": "5b69e305",
   "metadata": {
    "scrolled": true
   },
   "outputs": [
    {
     "data": {
      "text/plain": [
       "{'coord': {'lon': -71.0598, 'lat': 42.3584},\n",
       " 'weather': [{'id': 801,\n",
       "   'main': 'Clouds',\n",
       "   'description': 'few clouds',\n",
       "   'icon': '02n'}],\n",
       " 'base': 'stations',\n",
       " 'main': {'temp': 47.23,\n",
       "  'feels_like': 45.23,\n",
       "  'temp_min': 40.57,\n",
       "  'temp_max': 53.55,\n",
       "  'pressure': 1021,\n",
       "  'humidity': 66},\n",
       " 'visibility': 10000,\n",
       " 'wind': {'speed': 4.61, 'deg': 230},\n",
       " 'clouds': {'all': 20},\n",
       " 'dt': 1667180426,\n",
       " 'sys': {'type': 2,\n",
       "  'id': 2013408,\n",
       "  'country': 'US',\n",
       "  'sunrise': 1667128496,\n",
       "  'sunset': 1667166041},\n",
       " 'timezone': -14400,\n",
       " 'id': 4930956,\n",
       " 'name': 'Boston',\n",
       " 'cod': 200}"
      ]
     },
     "execution_count": 35,
     "metadata": {},
     "output_type": "execute_result"
    }
   ],
   "source": [
    "# Get the JSON text of the 'Get' request.\n",
    "city_weather.json()"
   ]
  },
  {
   "cell_type": "code",
   "execution_count": 36,
   "id": "498b0a5d",
   "metadata": {},
   "outputs": [
    {
     "name": "stdout",
     "output_type": "stream",
     "text": [
      "City Weather found.\n"
     ]
    }
   ],
   "source": [
    "# Create an endpoint URL for a city.\n",
    "city_url = url + \"&q=\" + \"Boston\"\n",
    "city_weather = requests.get(city_url)\n",
    "if city_weather.status_code == 200:\n",
    "    print(f\"City Weather found.\")\n",
    "else:\n",
    "    print(f\"City weather not found.\")"
   ]
  },
  {
   "cell_type": "code",
   "execution_count": 38,
   "id": "610cdc8d",
   "metadata": {},
   "outputs": [
    {
     "name": "stdout",
     "output_type": "stream",
     "text": [
      "City Weather found.\n"
     ]
    }
   ],
   "source": [
    "# Create an endpoint URL for a city.\n",
    "city_url = url + \"&q=\" + \"Boston\"\n",
    "city_weather = requests.get(city_url)\n",
    "if city_weather.status_code == 200:\n",
    "    print(f\"City Weather found.\")\n",
    "else:\n",
    "    print(f\"City weather not found.\")"
   ]
  },
  {
   "cell_type": "code",
   "execution_count": 39,
   "id": "2bcbaa82",
   "metadata": {},
   "outputs": [
    {
     "data": {
      "text/plain": [
       "{'coord': {'lon': -71.0598, 'lat': 42.3584},\n",
       " 'weather': [{'id': 801,\n",
       "   'main': 'Clouds',\n",
       "   'description': 'few clouds',\n",
       "   'icon': '02n'}],\n",
       " 'base': 'stations',\n",
       " 'main': {'temp': 45.7,\n",
       "  'feels_like': 42.69,\n",
       "  'temp_min': 39.15,\n",
       "  'temp_max': 52.25,\n",
       "  'pressure': 1021,\n",
       "  'humidity': 70},\n",
       " 'visibility': 10000,\n",
       " 'wind': {'speed': 5.75, 'deg': 200},\n",
       " 'clouds': {'all': 20},\n",
       " 'dt': 1667184746,\n",
       " 'sys': {'type': 2,\n",
       "  'id': 2013408,\n",
       "  'country': 'US',\n",
       "  'sunrise': 1667128496,\n",
       "  'sunset': 1667166041},\n",
       " 'timezone': -14400,\n",
       " 'id': 4930956,\n",
       " 'name': 'Boston',\n",
       " 'cod': 200}"
      ]
     },
     "execution_count": 39,
     "metadata": {},
     "output_type": "execute_result"
    }
   ],
   "source": [
    "# Create an endpoint URL for a city.\n",
    "city_url = url + \"&q=\" + \"Boston\"\n",
    "city_weather = requests.get(city_url)\n",
    "city_weather.json()"
   ]
  },
  {
   "cell_type": "code",
   "execution_count": 40,
   "id": "8808d5ee",
   "metadata": {},
   "outputs": [],
   "source": [
    "# Get the JSON data.\n",
    "boston_data = city_weather.json()"
   ]
  },
  {
   "cell_type": "code",
   "execution_count": 41,
   "id": "4c29a5f4",
   "metadata": {},
   "outputs": [
    {
     "data": {
      "text/plain": [
       "{'type': 2,\n",
       " 'id': 2013408,\n",
       " 'country': 'US',\n",
       " 'sunrise': 1667128496,\n",
       " 'sunset': 1667166041}"
      ]
     },
     "execution_count": 41,
     "metadata": {},
     "output_type": "execute_result"
    }
   ],
   "source": [
    "boston_data['sys']"
   ]
  },
  {
   "cell_type": "code",
   "execution_count": 42,
   "id": "63f98aa4",
   "metadata": {},
   "outputs": [
    {
     "data": {
      "text/plain": [
       "'US'"
      ]
     },
     "execution_count": 42,
     "metadata": {},
     "output_type": "execute_result"
    }
   ],
   "source": [
    "boston_data['sys'][\"country\"]"
   ]
  },
  {
   "cell_type": "code",
   "execution_count": 43,
   "id": "80cb0a1a",
   "metadata": {},
   "outputs": [
    {
     "data": {
      "text/plain": [
       "1667184746"
      ]
     },
     "execution_count": 43,
     "metadata": {},
     "output_type": "execute_result"
    }
   ],
   "source": [
    "boston_data[\"dt\"]"
   ]
  },
  {
   "cell_type": "code",
   "execution_count": 48,
   "id": "77c950f4",
   "metadata": {},
   "outputs": [
    {
     "data": {
      "text/plain": [
       "42.3584"
      ]
     },
     "execution_count": 48,
     "metadata": {},
     "output_type": "execute_result"
    }
   ],
   "source": [
    "boston_data[\"coord\"][\"lat\"]"
   ]
  },
  {
   "cell_type": "code",
   "execution_count": 50,
   "id": "8a891687",
   "metadata": {},
   "outputs": [
    {
     "data": {
      "text/plain": [
       "52.25"
      ]
     },
     "execution_count": 50,
     "metadata": {},
     "output_type": "execute_result"
    }
   ],
   "source": [
    "boston_data[\"main\"][\"temp_max\"]"
   ]
  },
  {
   "cell_type": "code",
   "execution_count": 51,
   "id": "f3299bb7",
   "metadata": {
    "scrolled": true
   },
   "outputs": [
    {
     "name": "stdout",
     "output_type": "stream",
     "text": [
      "42.3584 -71.0598 52.25 70 20 5.75\n"
     ]
    }
   ],
   "source": [
    "lat = boston_data[\"coord\"][\"lat\"]\n",
    "lng = boston_data[\"coord\"][\"lon\"]\n",
    "max_temp = boston_data[\"main\"][\"temp_max\"]\n",
    "humidity = boston_data[\"main\"][\"humidity\"]\n",
    "clouds = boston_data[\"clouds\"][\"all\"]\n",
    "wind = boston_data[\"wind\"][\"speed\"]\n",
    "print(lat, lng, max_temp, humidity, clouds, wind)"
   ]
  },
  {
   "cell_type": "code",
   "execution_count": 52,
   "id": "f5932ad3",
   "metadata": {},
   "outputs": [
    {
     "data": {
      "text/plain": [
       "datetime.datetime(2022, 10, 31, 2, 52, 26)"
      ]
     },
     "execution_count": 52,
     "metadata": {},
     "output_type": "execute_result"
    }
   ],
   "source": [
    "# Import the datetime module from the datetime library.\n",
    "from datetime import datetime\n",
    "# Get the date from the JSON file.\n",
    "date = boston_data[\"dt\"]\n",
    "# Convert the UTC date to a date format with year, month, day, hours, minutes, and seconds.\n",
    "datetime.utcfromtimestamp(date)"
   ]
  },
  {
   "cell_type": "code",
   "execution_count": 53,
   "id": "3fa79550",
   "metadata": {
    "scrolled": true
   },
   "outputs": [
    {
     "data": {
      "text/plain": [
       "'2022-10-31 02:52:26'"
      ]
     },
     "execution_count": 53,
     "metadata": {},
     "output_type": "execute_result"
    }
   ],
   "source": [
    "datetime.utcfromtimestamp(date).strftime('%Y-%m-%d %H:%M:%S')"
   ]
  },
  {
   "cell_type": "code",
   "execution_count": 60,
   "id": "2c7326a6",
   "metadata": {},
   "outputs": [],
   "source": [
    "# Import initial libraries\n",
    "import numpy as np\n",
    "import pandas as pd\n",
    "from citipy import citipy"
   ]
  },
  {
   "cell_type": "code",
   "execution_count": 61,
   "id": "035cd32c",
   "metadata": {},
   "outputs": [
    {
     "data": {
      "text/plain": [
       "<zip at 0x24bd9f39988>"
      ]
     },
     "execution_count": 61,
     "metadata": {},
     "output_type": "execute_result"
    }
   ],
   "source": [
    "# Create a set of random latitude and longitude combinations\n",
    "lats = np.random.uniform(low=-90.000, high=90.000, size=50)\n",
    "lngs = np.random.uniform(low=-180.000, high=180.000, size=50)\n",
    "\n",
    "# Use the zip function to create an iterator of tuples containing the latitude and longitude combinations\n",
    "lat_lngs = zip(lats, lngs)\n",
    "lat_lngs"
   ]
  },
  {
   "cell_type": "code",
   "execution_count": 62,
   "id": "66097f92",
   "metadata": {},
   "outputs": [
    {
     "name": "stdout",
     "output_type": "stream",
     "text": [
      "26.553171602535414 -174.54479374382998\n",
      "-40.21544840934412 -105.13468908898649\n",
      "30.08491467283946 114.62121945040889\n",
      "-61.86771871499533 74.32711341072948\n",
      "-54.91436100943636 -160.21664119814798\n",
      "67.7422208911976 78.18754262277815\n",
      "42.78024128432068 139.775184675378\n",
      "-48.84372079131649 -14.155244963577985\n",
      "-19.126608182121245 11.59847456476416\n",
      "-51.740616507499304 -76.67880779904814\n",
      "87.12817047586663 131.8107430500378\n",
      "10.83991705775594 -40.51823885999801\n",
      "-14.768383017445302 118.79786517914488\n",
      "-11.479861472233367 164.90562675216427\n",
      "42.14965927939454 0.5506582284863271\n",
      "-40.61538424177181 121.33389354101155\n",
      "-6.446776871951911 73.18973956305297\n",
      "-2.9405718324519228 -155.60148658105524\n",
      "-60.09675049653151 25.154913800056107\n",
      "-62.32384233896256 -87.18730157814637\n",
      "-77.46116462647947 66.5953770824369\n",
      "-85.1997457026391 5.106896119920748\n",
      "-44.451845640012735 -79.01190878034909\n",
      "59.259282292313 54.80894546565051\n",
      "-14.533250100337426 -79.9245301528285\n",
      "24.72187408457127 -20.74365265708994\n",
      "-64.38973649864946 155.70330669770698\n",
      "-58.821265662558034 -29.435766666170537\n",
      "-88.65344736353946 173.90379953161477\n",
      "17.34093068938624 -46.510273591993126\n",
      "52.08257531011279 -36.82448690228077\n",
      "-75.95398597153049 -12.965103289135925\n",
      "-1.2284284176670894 166.88018041502306\n",
      "54.348574237603685 -72.7883878149734\n",
      "-50.56698596308583 166.3028353249814\n",
      "-51.23002161595837 103.48495084608925\n",
      "7.421970576369745 -12.764447653615235\n",
      "32.77102630337386 135.89980438527107\n",
      "-78.70460880004961 -54.60992466045944\n",
      "-82.8313476511024 -37.7128621887025\n",
      "52.80736551704291 -144.02810488293886\n",
      "-46.465787435742676 134.97978955375777\n",
      "44.089174487754065 -39.38296006608343\n",
      "4.886085416752209 -115.23284541518973\n",
      "88.11466526737073 -110.36153827778445\n",
      "25.673542081276565 -170.3488865577867\n",
      "-41.95119661917229 177.35966598543973\n",
      "-29.399765575517293 35.98090648633806\n",
      "16.31528164810169 -115.57357626580702\n",
      "89.8385216781426 45.06387503240032\n"
     ]
    }
   ],
   "source": [
    "# Add the latitudes and longitudes to a list\n",
    "coordinates = list(lat_lngs)\n",
    "for coordinate in coordinates:\n",
    "    print(coordinate[0], coordinate[1])"
   ]
  },
  {
   "cell_type": "code",
   "execution_count": 63,
   "id": "1421efbf",
   "metadata": {},
   "outputs": [
    {
     "data": {
      "text/plain": [
       "45"
      ]
     },
     "execution_count": 63,
     "metadata": {},
     "output_type": "execute_result"
    }
   ],
   "source": [
    "# Create an empty list for holding the cities\n",
    "cities = []\n",
    "\n",
    "# Use a for loop to identify nearest city for each latitude and longitude combination using the citipy module\n",
    "for coordinate in coordinates:\n",
    "    # Use the citipy module to identify the nearest city to the current coordinate\n",
    "    city = citipy.nearest_city(coordinate[0], coordinate[1]).city_name\n",
    "    \n",
    "    # If the city is unique, then add it to a our cities list\n",
    "    if city not in cities:\n",
    "        cities.append(city)\n",
    "\n",
    "# Print the city count to confirm sufficient count\n",
    "len(cities)"
   ]
  },
  {
   "cell_type": "code",
   "execution_count": 64,
   "id": "6bedff80",
   "metadata": {},
   "outputs": [],
   "source": [
    "# Import the time library and the datetime module from the datetime library \n",
    "import time\n",
    "from datetime import datetime"
   ]
  },
  {
   "cell_type": "code",
   "execution_count": 65,
   "id": "017f22be",
   "metadata": {
    "scrolled": false
   },
   "outputs": [
    {
     "name": "stdout",
     "output_type": "stream",
     "text": [
      "Beginning Data Retrieval     \n",
      "-----------------------------\n",
      "Processing Record 1 of Set 1 | kapaa\n",
      "Processing Record 2 of Set 1 | ancud\n",
      "Processing Record 3 of Set 1 | daye\n",
      "Processing Record 4 of Set 1 | saint-philippe\n",
      "Processing Record 5 of Set 1 | mataura\n",
      "Processing Record 6 of Set 1 | tazovskiy\n",
      "Processing Record 7 of Set 1 | iwanai\n",
      "Processing Record 8 of Set 1 | jamestown\n",
      "Processing Record 9 of Set 1 | opuwo\n",
      "Processing Record 10 of Set 1 | punta arenas\n",
      "Processing Record 11 of Set 1 | tiksi\n",
      "Processing Record 12 of Set 1 | cayenne\n",
      "Processing Record 13 of Set 1 | broome\n",
      "Processing Record 14 of Set 1 | lata\n",
      "Processing Record 15 of Set 1 | monzon\n",
      "Processing Record 16 of Set 1 | albany\n",
      "Processing Record 17 of Set 1 | hithadhoo\n",
      "Processing Record 18 of Set 1 | faanui\n",
      "Processing Record 19 of Set 1 | bredasdorp\n",
      "Processing Record 20 of Set 1 | taolanaro\n",
      "City not found. Skipping...\n",
      "Processing Record 21 of Set 1 | hermanus\n",
      "Processing Record 22 of Set 1 | castro\n",
      "Processing Record 23 of Set 1 | kudymkar\n",
      "Processing Record 24 of Set 1 | chilca\n",
      "Processing Record 25 of Set 1 | los llanos de aridane\n",
      "Processing Record 26 of Set 1 | bluff\n",
      "Processing Record 27 of Set 1 | chuy\n",
      "Processing Record 28 of Set 1 | sinnamary\n",
      "Processing Record 29 of Set 1 | nanortalik\n",
      "Processing Record 30 of Set 1 | cape town\n",
      "Processing Record 31 of Set 1 | tabiauea\n",
      "City not found. Skipping...\n",
      "Processing Record 32 of Set 1 | chapais\n",
      "Processing Record 33 of Set 1 | busselton\n",
      "Processing Record 34 of Set 1 | bonthe\n",
      "Processing Record 35 of Set 1 | shingu\n",
      "Processing Record 36 of Set 1 | ushuaia\n",
      "Processing Record 37 of Set 1 | sitka\n",
      "Processing Record 38 of Set 1 | mount gambier\n",
      "Processing Record 39 of Set 1 | ribeira grande\n",
      "Processing Record 40 of Set 1 | san patricio\n",
      "Processing Record 41 of Set 1 | yellowknife\n",
      "Processing Record 42 of Set 1 | waipawa\n",
      "Processing Record 43 of Set 1 | richards bay\n",
      "Processing Record 44 of Set 1 | cabo san lucas\n",
      "Processing Record 45 of Set 1 | belushya guba\n",
      "City not found. Skipping...\n",
      "-----------------------------\n",
      "Data Retrieval Complete      \n",
      "-----------------------------\n"
     ]
    }
   ],
   "source": [
    "# Create an empty list to hold the weather data.\n",
    "city_data = []\n",
    "# Print the beginning of the logging.\n",
    "print(\"Beginning Data Retrieval     \")\n",
    "print(\"-----------------------------\")\n",
    "\n",
    "# Create counters.\n",
    "record_count = 1\n",
    "set_count = 1\n",
    "\n",
    "# Loop through all the cities in the list.\n",
    "for i, city in enumerate(cities):\n",
    "\n",
    "    # Group cities in sets of 50 for logging purposes.\n",
    "    if (i % 50 == 0 and i >= 50):\n",
    "        set_count += 1\n",
    "        record_count = 1\n",
    "        time.sleep(60)\n",
    "\n",
    "    # Create endpoint URL with each city.\n",
    "    city_url = url + \"&q=\" + city.replace(\" \",\"+\")\n",
    "\n",
    "    # Log the URL, record, and set numbers and the city.\n",
    "    print(f\"Processing Record {record_count} of Set {set_count} | {city}\")\n",
    "    # Add 1 to the record count.\n",
    "    record_count += 1\n",
    "    \n",
    "# Run an API request for each of the cities.\n",
    "    try:\n",
    "        # Parse the JSON and retrieve data.\n",
    "        city_weather = requests.get(city_url).json()\n",
    "        # Parse out the needed data.\n",
    "        city_lat = city_weather[\"coord\"][\"lat\"]\n",
    "        city_lng = city_weather[\"coord\"][\"lon\"]\n",
    "        city_max_temp = city_weather[\"main\"][\"temp_max\"]\n",
    "        city_humidity = city_weather[\"main\"][\"humidity\"]\n",
    "        city_clouds = city_weather[\"clouds\"][\"all\"]\n",
    "        city_wind = city_weather[\"wind\"][\"speed\"]\n",
    "        city_country = city_weather[\"sys\"][\"country\"]\n",
    "        # Convert the date to ISO standard.\n",
    "        city_date = datetime.utcfromtimestamp(city_weather[\"dt\"]).strftime('%Y-%m-%d %H:%M:%S')\n",
    "        # Append the city information into city_data list.\n",
    "        city_data.append({\"City\": city.title(),\n",
    "                          \"Lat\": city_lat,\n",
    "                          \"Lng\": city_lng,\n",
    "                          \"Max Temp\": city_max_temp,\n",
    "                          \"Humidity\": city_humidity,\n",
    "                          \"Cloudiness\": city_clouds,\n",
    "                          \"Wind Speed\": city_wind,\n",
    "                          \"Country\": city_country,\n",
    "                          \"Date\": city_date})\n",
    "\n",
    "# If an error is experienced, skip the city.\n",
    "    except:\n",
    "        print(\"City not found. Skipping...\")\n",
    "        pass\n",
    "\n",
    "# Indicate that Data Loading is complete.\n",
    "print(\"-----------------------------\")\n",
    "print(\"Data Retrieval Complete      \")\n",
    "print(\"-----------------------------\")"
   ]
  },
  {
   "cell_type": "code",
   "execution_count": 66,
   "id": "06ee9873",
   "metadata": {},
   "outputs": [
    {
     "data": {
      "text/plain": [
       "42"
      ]
     },
     "execution_count": 66,
     "metadata": {},
     "output_type": "execute_result"
    }
   ],
   "source": [
    "len(city_data)"
   ]
  },
  {
   "cell_type": "code",
   "execution_count": 67,
   "id": "e3e7d997",
   "metadata": {
    "scrolled": true
   },
   "outputs": [
    {
     "data": {
      "text/html": [
       "<div>\n",
       "<style scoped>\n",
       "    .dataframe tbody tr th:only-of-type {\n",
       "        vertical-align: middle;\n",
       "    }\n",
       "\n",
       "    .dataframe tbody tr th {\n",
       "        vertical-align: top;\n",
       "    }\n",
       "\n",
       "    .dataframe thead th {\n",
       "        text-align: right;\n",
       "    }\n",
       "</style>\n",
       "<table border=\"1\" class=\"dataframe\">\n",
       "  <thead>\n",
       "    <tr style=\"text-align: right;\">\n",
       "      <th></th>\n",
       "      <th>City</th>\n",
       "      <th>Lat</th>\n",
       "      <th>Lng</th>\n",
       "      <th>Max Temp</th>\n",
       "      <th>Humidity</th>\n",
       "      <th>Cloudiness</th>\n",
       "      <th>Wind Speed</th>\n",
       "      <th>Country</th>\n",
       "      <th>Date</th>\n",
       "    </tr>\n",
       "  </thead>\n",
       "  <tbody>\n",
       "    <tr>\n",
       "      <th>0</th>\n",
       "      <td>Kapaa</td>\n",
       "      <td>22.0752</td>\n",
       "      <td>-159.3190</td>\n",
       "      <td>81.10</td>\n",
       "      <td>75</td>\n",
       "      <td>40</td>\n",
       "      <td>17.27</td>\n",
       "      <td>US</td>\n",
       "      <td>2022-11-01 18:48:17</td>\n",
       "    </tr>\n",
       "    <tr>\n",
       "      <th>1</th>\n",
       "      <td>Ancud</td>\n",
       "      <td>-41.8697</td>\n",
       "      <td>-73.8203</td>\n",
       "      <td>60.22</td>\n",
       "      <td>54</td>\n",
       "      <td>0</td>\n",
       "      <td>4.45</td>\n",
       "      <td>CL</td>\n",
       "      <td>2022-11-01 18:48:18</td>\n",
       "    </tr>\n",
       "    <tr>\n",
       "      <th>2</th>\n",
       "      <td>Daye</td>\n",
       "      <td>30.0833</td>\n",
       "      <td>114.9500</td>\n",
       "      <td>58.78</td>\n",
       "      <td>70</td>\n",
       "      <td>0</td>\n",
       "      <td>5.14</td>\n",
       "      <td>CN</td>\n",
       "      <td>2022-11-01 18:48:18</td>\n",
       "    </tr>\n",
       "    <tr>\n",
       "      <th>3</th>\n",
       "      <td>Saint-Philippe</td>\n",
       "      <td>-21.3585</td>\n",
       "      <td>55.7679</td>\n",
       "      <td>72.99</td>\n",
       "      <td>83</td>\n",
       "      <td>1</td>\n",
       "      <td>7.61</td>\n",
       "      <td>RE</td>\n",
       "      <td>2022-11-01 18:48:18</td>\n",
       "    </tr>\n",
       "    <tr>\n",
       "      <th>4</th>\n",
       "      <td>Mataura</td>\n",
       "      <td>-46.1927</td>\n",
       "      <td>168.8643</td>\n",
       "      <td>59.38</td>\n",
       "      <td>66</td>\n",
       "      <td>0</td>\n",
       "      <td>6.73</td>\n",
       "      <td>NZ</td>\n",
       "      <td>2022-11-01 18:48:19</td>\n",
       "    </tr>\n",
       "    <tr>\n",
       "      <th>5</th>\n",
       "      <td>Tazovskiy</td>\n",
       "      <td>67.4667</td>\n",
       "      <td>78.7000</td>\n",
       "      <td>23.22</td>\n",
       "      <td>91</td>\n",
       "      <td>97</td>\n",
       "      <td>14.29</td>\n",
       "      <td>RU</td>\n",
       "      <td>2022-11-01 18:48:19</td>\n",
       "    </tr>\n",
       "    <tr>\n",
       "      <th>6</th>\n",
       "      <td>Iwanai</td>\n",
       "      <td>42.9744</td>\n",
       "      <td>140.5089</td>\n",
       "      <td>48.99</td>\n",
       "      <td>85</td>\n",
       "      <td>100</td>\n",
       "      <td>9.84</td>\n",
       "      <td>JP</td>\n",
       "      <td>2022-11-01 18:48:20</td>\n",
       "    </tr>\n",
       "    <tr>\n",
       "      <th>7</th>\n",
       "      <td>Jamestown</td>\n",
       "      <td>42.0970</td>\n",
       "      <td>-79.2353</td>\n",
       "      <td>59.02</td>\n",
       "      <td>94</td>\n",
       "      <td>100</td>\n",
       "      <td>8.05</td>\n",
       "      <td>US</td>\n",
       "      <td>2022-11-01 18:44:16</td>\n",
       "    </tr>\n",
       "    <tr>\n",
       "      <th>8</th>\n",
       "      <td>Opuwo</td>\n",
       "      <td>-18.0607</td>\n",
       "      <td>13.8400</td>\n",
       "      <td>80.92</td>\n",
       "      <td>26</td>\n",
       "      <td>13</td>\n",
       "      <td>10.00</td>\n",
       "      <td>NA</td>\n",
       "      <td>2022-11-01 18:48:20</td>\n",
       "    </tr>\n",
       "    <tr>\n",
       "      <th>9</th>\n",
       "      <td>Punta Arenas</td>\n",
       "      <td>-53.1500</td>\n",
       "      <td>-70.9167</td>\n",
       "      <td>57.31</td>\n",
       "      <td>33</td>\n",
       "      <td>0</td>\n",
       "      <td>24.16</td>\n",
       "      <td>CL</td>\n",
       "      <td>2022-11-01 18:45:03</td>\n",
       "    </tr>\n",
       "  </tbody>\n",
       "</table>\n",
       "</div>"
      ],
      "text/plain": [
       "             City      Lat       Lng  Max Temp  Humidity  Cloudiness  \\\n",
       "0           Kapaa  22.0752 -159.3190     81.10        75          40   \n",
       "1           Ancud -41.8697  -73.8203     60.22        54           0   \n",
       "2            Daye  30.0833  114.9500     58.78        70           0   \n",
       "3  Saint-Philippe -21.3585   55.7679     72.99        83           1   \n",
       "4         Mataura -46.1927  168.8643     59.38        66           0   \n",
       "5       Tazovskiy  67.4667   78.7000     23.22        91          97   \n",
       "6          Iwanai  42.9744  140.5089     48.99        85         100   \n",
       "7       Jamestown  42.0970  -79.2353     59.02        94         100   \n",
       "8           Opuwo -18.0607   13.8400     80.92        26          13   \n",
       "9    Punta Arenas -53.1500  -70.9167     57.31        33           0   \n",
       "\n",
       "   Wind Speed Country                 Date  \n",
       "0       17.27      US  2022-11-01 18:48:17  \n",
       "1        4.45      CL  2022-11-01 18:48:18  \n",
       "2        5.14      CN  2022-11-01 18:48:18  \n",
       "3        7.61      RE  2022-11-01 18:48:18  \n",
       "4        6.73      NZ  2022-11-01 18:48:19  \n",
       "5       14.29      RU  2022-11-01 18:48:19  \n",
       "6        9.84      JP  2022-11-01 18:48:20  \n",
       "7        8.05      US  2022-11-01 18:44:16  \n",
       "8       10.00      NA  2022-11-01 18:48:20  \n",
       "9       24.16      CL  2022-11-01 18:45:03  "
      ]
     },
     "execution_count": 67,
     "metadata": {},
     "output_type": "execute_result"
    }
   ],
   "source": [
    "# Convert the array of dictionaries to a Pandas DataFrame.\n",
    "city_data_df = pd.DataFrame(city_data)\n",
    "city_data_df.head(10)"
   ]
  },
  {
   "cell_type": "code",
   "execution_count": 69,
   "id": "936749fe",
   "metadata": {
    "scrolled": true
   },
   "outputs": [
    {
     "data": {
      "text/html": [
       "<div>\n",
       "<style scoped>\n",
       "    .dataframe tbody tr th:only-of-type {\n",
       "        vertical-align: middle;\n",
       "    }\n",
       "\n",
       "    .dataframe tbody tr th {\n",
       "        vertical-align: top;\n",
       "    }\n",
       "\n",
       "    .dataframe thead th {\n",
       "        text-align: right;\n",
       "    }\n",
       "</style>\n",
       "<table border=\"1\" class=\"dataframe\">\n",
       "  <thead>\n",
       "    <tr style=\"text-align: right;\">\n",
       "      <th></th>\n",
       "      <th>City</th>\n",
       "      <th>Country</th>\n",
       "      <th>Date</th>\n",
       "      <th>Lat</th>\n",
       "      <th>Lng</th>\n",
       "      <th>Max Temp</th>\n",
       "      <th>Humidity</th>\n",
       "      <th>Cloudiness</th>\n",
       "      <th>Wind Speed</th>\n",
       "    </tr>\n",
       "  </thead>\n",
       "  <tbody>\n",
       "    <tr>\n",
       "      <th>0</th>\n",
       "      <td>Kapaa</td>\n",
       "      <td>US</td>\n",
       "      <td>2022-11-01 18:48:17</td>\n",
       "      <td>22.0752</td>\n",
       "      <td>-159.3190</td>\n",
       "      <td>81.10</td>\n",
       "      <td>75</td>\n",
       "      <td>40</td>\n",
       "      <td>17.27</td>\n",
       "    </tr>\n",
       "    <tr>\n",
       "      <th>1</th>\n",
       "      <td>Ancud</td>\n",
       "      <td>CL</td>\n",
       "      <td>2022-11-01 18:48:18</td>\n",
       "      <td>-41.8697</td>\n",
       "      <td>-73.8203</td>\n",
       "      <td>60.22</td>\n",
       "      <td>54</td>\n",
       "      <td>0</td>\n",
       "      <td>4.45</td>\n",
       "    </tr>\n",
       "    <tr>\n",
       "      <th>2</th>\n",
       "      <td>Daye</td>\n",
       "      <td>CN</td>\n",
       "      <td>2022-11-01 18:48:18</td>\n",
       "      <td>30.0833</td>\n",
       "      <td>114.9500</td>\n",
       "      <td>58.78</td>\n",
       "      <td>70</td>\n",
       "      <td>0</td>\n",
       "      <td>5.14</td>\n",
       "    </tr>\n",
       "    <tr>\n",
       "      <th>3</th>\n",
       "      <td>Saint-Philippe</td>\n",
       "      <td>RE</td>\n",
       "      <td>2022-11-01 18:48:18</td>\n",
       "      <td>-21.3585</td>\n",
       "      <td>55.7679</td>\n",
       "      <td>72.99</td>\n",
       "      <td>83</td>\n",
       "      <td>1</td>\n",
       "      <td>7.61</td>\n",
       "    </tr>\n",
       "    <tr>\n",
       "      <th>4</th>\n",
       "      <td>Mataura</td>\n",
       "      <td>NZ</td>\n",
       "      <td>2022-11-01 18:48:19</td>\n",
       "      <td>-46.1927</td>\n",
       "      <td>168.8643</td>\n",
       "      <td>59.38</td>\n",
       "      <td>66</td>\n",
       "      <td>0</td>\n",
       "      <td>6.73</td>\n",
       "    </tr>\n",
       "    <tr>\n",
       "      <th>5</th>\n",
       "      <td>Tazovskiy</td>\n",
       "      <td>RU</td>\n",
       "      <td>2022-11-01 18:48:19</td>\n",
       "      <td>67.4667</td>\n",
       "      <td>78.7000</td>\n",
       "      <td>23.22</td>\n",
       "      <td>91</td>\n",
       "      <td>97</td>\n",
       "      <td>14.29</td>\n",
       "    </tr>\n",
       "    <tr>\n",
       "      <th>6</th>\n",
       "      <td>Iwanai</td>\n",
       "      <td>JP</td>\n",
       "      <td>2022-11-01 18:48:20</td>\n",
       "      <td>42.9744</td>\n",
       "      <td>140.5089</td>\n",
       "      <td>48.99</td>\n",
       "      <td>85</td>\n",
       "      <td>100</td>\n",
       "      <td>9.84</td>\n",
       "    </tr>\n",
       "    <tr>\n",
       "      <th>7</th>\n",
       "      <td>Jamestown</td>\n",
       "      <td>US</td>\n",
       "      <td>2022-11-01 18:44:16</td>\n",
       "      <td>42.0970</td>\n",
       "      <td>-79.2353</td>\n",
       "      <td>59.02</td>\n",
       "      <td>94</td>\n",
       "      <td>100</td>\n",
       "      <td>8.05</td>\n",
       "    </tr>\n",
       "    <tr>\n",
       "      <th>8</th>\n",
       "      <td>Opuwo</td>\n",
       "      <td>NA</td>\n",
       "      <td>2022-11-01 18:48:20</td>\n",
       "      <td>-18.0607</td>\n",
       "      <td>13.8400</td>\n",
       "      <td>80.92</td>\n",
       "      <td>26</td>\n",
       "      <td>13</td>\n",
       "      <td>10.00</td>\n",
       "    </tr>\n",
       "    <tr>\n",
       "      <th>9</th>\n",
       "      <td>Punta Arenas</td>\n",
       "      <td>CL</td>\n",
       "      <td>2022-11-01 18:45:03</td>\n",
       "      <td>-53.1500</td>\n",
       "      <td>-70.9167</td>\n",
       "      <td>57.31</td>\n",
       "      <td>33</td>\n",
       "      <td>0</td>\n",
       "      <td>24.16</td>\n",
       "    </tr>\n",
       "  </tbody>\n",
       "</table>\n",
       "</div>"
      ],
      "text/plain": [
       "             City Country                 Date      Lat       Lng  Max Temp  \\\n",
       "0           Kapaa      US  2022-11-01 18:48:17  22.0752 -159.3190     81.10   \n",
       "1           Ancud      CL  2022-11-01 18:48:18 -41.8697  -73.8203     60.22   \n",
       "2            Daye      CN  2022-11-01 18:48:18  30.0833  114.9500     58.78   \n",
       "3  Saint-Philippe      RE  2022-11-01 18:48:18 -21.3585   55.7679     72.99   \n",
       "4         Mataura      NZ  2022-11-01 18:48:19 -46.1927  168.8643     59.38   \n",
       "5       Tazovskiy      RU  2022-11-01 18:48:19  67.4667   78.7000     23.22   \n",
       "6          Iwanai      JP  2022-11-01 18:48:20  42.9744  140.5089     48.99   \n",
       "7       Jamestown      US  2022-11-01 18:44:16  42.0970  -79.2353     59.02   \n",
       "8           Opuwo      NA  2022-11-01 18:48:20 -18.0607   13.8400     80.92   \n",
       "9    Punta Arenas      CL  2022-11-01 18:45:03 -53.1500  -70.9167     57.31   \n",
       "\n",
       "   Humidity  Cloudiness  Wind Speed  \n",
       "0        75          40       17.27  \n",
       "1        54           0        4.45  \n",
       "2        70           0        5.14  \n",
       "3        83           1        7.61  \n",
       "4        66           0        6.73  \n",
       "5        91          97       14.29  \n",
       "6        85         100        9.84  \n",
       "7        94         100        8.05  \n",
       "8        26          13       10.00  \n",
       "9        33           0       24.16  "
      ]
     },
     "execution_count": 69,
     "metadata": {},
     "output_type": "execute_result"
    }
   ],
   "source": [
    "city_data_df = city_data_df[[\"City\", \"Country\", \"Date\", \"Lat\", \"Lng\", \"Max Temp\", \"Humidity\", \"Cloudiness\", \"Wind Speed\"]]\n",
    "city_data_df.head(10)"
   ]
  },
  {
   "cell_type": "code",
   "execution_count": 71,
   "id": "c71db2af",
   "metadata": {},
   "outputs": [],
   "source": [
    "# Create the output file (CSV).\n",
    "output_data_file = \"weather_Database/cities.csv\"\n",
    "# Export the City_Data into a CSV.\n",
    "city_data_df.to_csv(output_data_file, index_label=\"City_ID\")"
   ]
  }
 ],
 "metadata": {
  "kernelspec": {
   "display_name": "Python 3 (ipykernel)",
   "language": "python",
   "name": "python3"
  },
  "language_info": {
   "codemirror_mode": {
    "name": "ipython",
    "version": 3
   },
   "file_extension": ".py",
   "mimetype": "text/x-python",
   "name": "python",
   "nbconvert_exporter": "python",
   "pygments_lexer": "ipython3",
   "version": "3.7.13"
  }
 },
 "nbformat": 4,
 "nbformat_minor": 5
}
